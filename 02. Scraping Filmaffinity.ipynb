{
 "cells": [
  {
   "cell_type": "markdown",
   "id": "53015620",
   "metadata": {},
   "source": [
    "Realizaremos un scraping a la página web de `Filmaffinity` para obtener datos sobre las películas que estan mejor valoradas"
   ]
  },
  {
   "cell_type": "markdown",
   "id": "9f92259d",
   "metadata": {},
   "source": [
    "### Librería"
   ]
  },
  {
   "cell_type": "code",
   "execution_count": 1,
   "id": "c700fa84",
   "metadata": {},
   "outputs": [],
   "source": [
    "import requests\n",
    "from bs4 import BeautifulSoup\n",
    "import pandas as pd"
   ]
  },
  {
   "cell_type": "markdown",
   "id": "b6fb351e",
   "metadata": {},
   "source": [
    "### Scraping"
   ]
  },
  {
   "cell_type": "code",
   "execution_count": 2,
   "id": "e3f13ff4",
   "metadata": {},
   "outputs": [],
   "source": [
    "url = \"https://www.filmaffinity.com/us/topgen.php\"\n",
    "html = requests.get(url)\n",
    "soup = BeautifulSoup(html.content, \"html.parser\")"
   ]
  },
  {
   "cell_type": "code",
   "execution_count": 3,
   "id": "52af0832",
   "metadata": {},
   "outputs": [],
   "source": [
    "#Con findall buscamos los títulos de las películas\n",
    "titles = soup.find_all(\"div\", {\"class\": 'mc-title'})"
   ]
  },
  {
   "cell_type": "code",
   "execution_count": 4,
   "id": "32e9936b",
   "metadata": {},
   "outputs": [
    {
     "data": {
      "text/plain": [
       "'The Godfather  (1972)'"
      ]
     },
     "execution_count": 4,
     "metadata": {},
     "output_type": "execute_result"
    }
   ],
   "source": [
    "#La película mejor valorada es:\n",
    "titles[0].getText().strip()"
   ]
  },
  {
   "cell_type": "code",
   "execution_count": 5,
   "id": "f314df58",
   "metadata": {},
   "outputs": [],
   "source": [
    "#Otra opción es hacerlo con select\n",
    "titles_ = soup.select(\"div.mc-title\")"
   ]
  },
  {
   "cell_type": "code",
   "execution_count": 6,
   "id": "ecf01a51",
   "metadata": {},
   "outputs": [],
   "source": [
    "lista_titles = [i.getText().strip() for i in titles_]\n",
    "lista_t = lista_titles[:10]"
   ]
  },
  {
   "cell_type": "code",
   "execution_count": 25,
   "id": "8bfea0e1",
   "metadata": {},
   "outputs": [],
   "source": [
    "rating = soup.select(\"div.avg-rating\")"
   ]
  },
  {
   "cell_type": "code",
   "execution_count": 26,
   "id": "ba8cf185",
   "metadata": {},
   "outputs": [],
   "source": [
    "rating = soup.find_all(\"div\", {\"class\":\"avg-rating\"})"
   ]
  },
  {
   "cell_type": "code",
   "execution_count": 27,
   "id": "6ffa50e8",
   "metadata": {},
   "outputs": [],
   "source": [
    "lista_rating = [precio.getText().strip() for precio in rating]\n",
    "lista_r = lista_rating[:10]"
   ]
  },
  {
   "cell_type": "code",
   "execution_count": 28,
   "id": "4b922bc9",
   "metadata": {},
   "outputs": [],
   "source": [
    "director = soup.select(\"div.mc-director\")"
   ]
  },
  {
   "cell_type": "code",
   "execution_count": 29,
   "id": "c647dd0e",
   "metadata": {},
   "outputs": [
    {
     "data": {
      "text/plain": [
       "['Francis Ford Coppola',\n",
       " 'Francis Ford Coppola',\n",
       " 'David Simon (Creator), Joe Chappelle, Ernest R. Dickerson',\n",
       " 'Vince Gilligan (Creator), Michelle MacLaren, Adam Bernstein',\n",
       " 'Sidney Lumet',\n",
       " 'Steven Spielberg',\n",
       " 'Billy Wilder',\n",
       " 'Charles Chaplin',\n",
       " 'Matt Groening (Creator), Sam Simon (Creator), James L. Brooks (Creator)',\n",
       " 'Frank Darabont']"
      ]
     },
     "execution_count": 29,
     "metadata": {},
     "output_type": "execute_result"
    }
   ],
   "source": [
    "lista_directores = [marca.getText() for marca in director]\n",
    "lista = lista_directores[:10]\n",
    "lista"
   ]
  },
  {
   "cell_type": "code",
   "execution_count": 30,
   "id": "57676d3b",
   "metadata": {},
   "outputs": [],
   "source": [
    "diccionario = {\"Peliculas\": lista_t, \"Director\": lista, \"Rating\": lista_r}"
   ]
  },
  {
   "cell_type": "code",
   "execution_count": 31,
   "id": "7a33ee57",
   "metadata": {},
   "outputs": [
    {
     "data": {
      "text/html": [
       "<div>\n",
       "<style scoped>\n",
       "    .dataframe tbody tr th:only-of-type {\n",
       "        vertical-align: middle;\n",
       "    }\n",
       "\n",
       "    .dataframe tbody tr th {\n",
       "        vertical-align: top;\n",
       "    }\n",
       "\n",
       "    .dataframe thead th {\n",
       "        text-align: right;\n",
       "    }\n",
       "</style>\n",
       "<table border=\"1\" class=\"dataframe\">\n",
       "  <thead>\n",
       "    <tr style=\"text-align: right;\">\n",
       "      <th></th>\n",
       "      <th>Peliculas</th>\n",
       "      <th>Director</th>\n",
       "      <th>Rating</th>\n",
       "    </tr>\n",
       "  </thead>\n",
       "  <tbody>\n",
       "    <tr>\n",
       "      <th>5</th>\n",
       "      <td>Schindler's List  (1993)</td>\n",
       "      <td>Steven Spielberg</td>\n",
       "      <td>8.6</td>\n",
       "    </tr>\n",
       "    <tr>\n",
       "      <th>6</th>\n",
       "      <td>Witness for the Prosecution  (1957)</td>\n",
       "      <td>Billy Wilder</td>\n",
       "      <td>8.6</td>\n",
       "    </tr>\n",
       "    <tr>\n",
       "      <th>7</th>\n",
       "      <td>City Lights  (1931)</td>\n",
       "      <td>Charles Chaplin</td>\n",
       "      <td>8.6</td>\n",
       "    </tr>\n",
       "    <tr>\n",
       "      <th>8</th>\n",
       "      <td>The Simpsons (TV Series) (1989)</td>\n",
       "      <td>Matt Groening (Creator), Sam Simon (Creator), ...</td>\n",
       "      <td>8.6</td>\n",
       "    </tr>\n",
       "    <tr>\n",
       "      <th>9</th>\n",
       "      <td>The Shawshank Redemption  (1994)</td>\n",
       "      <td>Frank Darabont</td>\n",
       "      <td>8.6</td>\n",
       "    </tr>\n",
       "  </tbody>\n",
       "</table>\n",
       "</div>"
      ],
      "text/plain": [
       "                             Peliculas  \\\n",
       "5             Schindler's List  (1993)   \n",
       "6  Witness for the Prosecution  (1957)   \n",
       "7                  City Lights  (1931)   \n",
       "8      The Simpsons (TV Series) (1989)   \n",
       "9     The Shawshank Redemption  (1994)   \n",
       "\n",
       "                                            Director Rating  \n",
       "5                                   Steven Spielberg    8.6  \n",
       "6                                       Billy Wilder    8.6  \n",
       "7                                    Charles Chaplin    8.6  \n",
       "8  Matt Groening (Creator), Sam Simon (Creator), ...    8.6  \n",
       "9                                     Frank Darabont    8.6  "
      ]
     },
     "execution_count": 31,
     "metadata": {},
     "output_type": "execute_result"
    }
   ],
   "source": [
    "df = pd.DataFrame(diccionario)\n",
    "df.tail()"
   ]
  },
  {
   "cell_type": "code",
   "execution_count": 32,
   "id": "1a479bb6",
   "metadata": {},
   "outputs": [],
   "source": [
    "df.to_csv(\"scrapping_clean.csv\")"
   ]
  }
 ],
 "metadata": {
  "kernelspec": {
   "display_name": "ironhack",
   "language": "python",
   "name": "ironhack"
  },
  "language_info": {
   "codemirror_mode": {
    "name": "ipython",
    "version": 3
   },
   "file_extension": ".py",
   "mimetype": "text/x-python",
   "name": "python",
   "nbconvert_exporter": "python",
   "pygments_lexer": "ipython3",
   "version": "3.8.8"
  }
 },
 "nbformat": 4,
 "nbformat_minor": 5
}
